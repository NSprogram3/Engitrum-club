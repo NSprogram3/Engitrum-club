{
  "nbformat": 4,
  "nbformat_minor": 0,
  "metadata": {
    "colab": {
      "provenance": [],
      "authorship_tag": "ABX9TyMyfifI7mtyLm6CB10Lu4PY",
      "include_colab_link": true
    },
    "kernelspec": {
      "name": "python3",
      "display_name": "Python 3"
    },
    "language_info": {
      "name": "python"
    }
  },
  "cells": [
    {
      "cell_type": "markdown",
      "metadata": {
        "id": "view-in-github",
        "colab_type": "text"
      },
      "source": [
        "<a href=\"https://colab.research.google.com/github/NSprogram3/Engitrum-club/blob/main/week_3.ipynb\" target=\"_parent\"><img src=\"https://colab.research.google.com/assets/colab-badge.svg\" alt=\"Open In Colab\"/></a>"
      ]
    },
    {
      "cell_type": "markdown",
      "source": [
        "week 3"
      ],
      "metadata": {
        "id": "q3BkxzOSaClH"
      }
    },
    {
      "cell_type": "markdown",
      "source": [
        "\n",
        "\n",
        "```\n",
        "pandas```\n",
        "\n"
      ],
      "metadata": {
        "id": "RU-KuD0LTyr3"
      }
    },
    {
      "cell_type": "markdown",
      "source": [
        "Pandas is a Python library used for working with data sets.\n",
        "\n",
        "It has functions for analyzing, cleaning, exploring, and manipulating data.\n",
        "\n",
        "The name \"Pandas\" has a reference to both \"Panel Data\", and \"Python Data Analysis\" and was created by Wes McKinney in 2008."
      ],
      "metadata": {
        "id": "1ItpOtq8bNBu"
      }
    },
    {
      "cell_type": "markdown",
      "source": [
        "Pandas gives you answers about the data. Like:\n",
        "\n",
        "Is there a correlation between two or more columns?\n",
        "What is average value?\n",
        "Max value?\n",
        "Min value?"
      ],
      "metadata": {
        "id": "BoG4N10dbozB"
      }
    },
    {
      "cell_type": "code",
      "source": [
        "\n",
        "import pandas as pd\n",
        "\n",
        "#CSV file) into a DataFrame:\n",
        "\n",
        "#df = pd.read_csv('data.csv')\n",
        "#print(df.to_string()) \n",
        "#use to_string() to print the entire DataFrame."
      ],
      "metadata": {
        "id": "DNYrAAJ5aGdE"
      },
      "execution_count": 10,
      "outputs": []
    },
    {
      "cell_type": "code",
      "source": [
        "import pandas\n",
        "\n",
        "mydataset = {\n",
        "  'cars': [\"BMW\", \"Volvo\", \"Ford\",\"Ferrari\",'Opel',\"\"],\n",
        "  'passings': [3, 7, 2,8,3,1]\n",
        "}\n",
        "\n",
        "myvar = pandas.DataFrame(mydataset)\n",
        "\n",
        "print(myvar)"
      ],
      "metadata": {
        "colab": {
          "base_uri": "https://localhost:8080/"
        },
        "id": "HhS7REiqaGjJ",
        "outputId": "07f6fe4b-7c6e-47d6-f899-613f49f7adae"
      },
      "execution_count": 22,
      "outputs": [
        {
          "output_type": "stream",
          "name": "stdout",
          "text": [
            "      cars  passings\n",
            "0      BMW         3\n",
            "1    Volvo         7\n",
            "2     Ford         2\n",
            "3  Ferrari         8\n",
            "4     Opel         3\n",
            "5                  1\n"
          ]
        }
      ]
    },
    {
      "cell_type": "code",
      "source": [
        "#Pandas is usually imported under the pd alias."
      ],
      "metadata": {
        "id": "_yVcSWtbb3Ac"
      },
      "execution_count": 13,
      "outputs": []
    },
    {
      "cell_type": "code",
      "source": [
        "#The version string is stored under __version__ attribute.\n",
        "\n",
        "\n",
        "import pandas as pd\n",
        "\n",
        "print(pd.__version__)"
      ],
      "metadata": {
        "colab": {
          "base_uri": "https://localhost:8080/"
        },
        "id": "L7Rfihwvb-E1",
        "outputId": "45100f7c-738f-419a-8658-2ea39c54be4c"
      },
      "execution_count": 23,
      "outputs": [
        {
          "output_type": "stream",
          "name": "stdout",
          "text": [
            "1.5.3\n"
          ]
        }
      ]
    },
    {
      "cell_type": "code",
      "source": [
        "#Pandas use the loc attribute to return one or more specified row(s)\n",
        "#refer to the row index:\n",
        "print(myvar.loc[1])"
      ],
      "metadata": {
        "id": "hz0O0VSocIF1",
        "colab": {
          "base_uri": "https://localhost:8080/"
        },
        "outputId": "54637b98-5bea-43e1-9343-4aa9fa8b6d3c"
      },
      "execution_count": 14,
      "outputs": [
        {
          "output_type": "stream",
          "name": "stdout",
          "text": [
            "cars        Volvo\n",
            "passings        7\n",
            "Name: 1, dtype: object\n"
          ]
        }
      ]
    },
    {
      "cell_type": "code",
      "source": [
        "#use a list of indexes\n",
        "print(myvar.loc[[2,1]])"
      ],
      "metadata": {
        "id": "TCkFicDtcEY3",
        "colab": {
          "base_uri": "https://localhost:8080/"
        },
        "outputId": "2a8bcd99-7940-4ff7-9e48-4b49d2c015d2"
      },
      "execution_count": 15,
      "outputs": [
        {
          "output_type": "stream",
          "name": "stdout",
          "text": [
            "    cars  passings\n",
            "2   Ford         2\n",
            "1  Volvo         7\n"
          ]
        }
      ]
    },
    {
      "cell_type": "markdown",
      "source": [
        "Viewing the Data\n"
      ],
      "metadata": {
        "id": "_aJB8Q92F0iX"
      }
    },
    {
      "cell_type": "markdown",
      "source": [
        "Head :  method returns the headers and a specified number of rows, starting from the top."
      ],
      "metadata": {
        "id": "DsCHbbAtF7fm"
      }
    },
    {
      "cell_type": "code",
      "source": [
        "myvar.head()"
      ],
      "metadata": {
        "colab": {
          "base_uri": "https://localhost:8080/",
          "height": 206
        },
        "id": "dtRG_Ek-F6uO",
        "outputId": "d244ab87-d280-44f2-928b-495730d6f0a4"
      },
      "execution_count": 16,
      "outputs": [
        {
          "output_type": "execute_result",
          "data": {
            "text/plain": [
              "      cars  passings\n",
              "0      BMW         3\n",
              "1    Volvo         7\n",
              "2     Ford         2\n",
              "3  Ferrari         8\n",
              "4     Opel         3"
            ],
            "text/html": [
              "\n",
              "  <div id=\"df-bd0a1397-4d0d-44e6-8f15-be1352464b40\">\n",
              "    <div class=\"colab-df-container\">\n",
              "      <div>\n",
              "<style scoped>\n",
              "    .dataframe tbody tr th:only-of-type {\n",
              "        vertical-align: middle;\n",
              "    }\n",
              "\n",
              "    .dataframe tbody tr th {\n",
              "        vertical-align: top;\n",
              "    }\n",
              "\n",
              "    .dataframe thead th {\n",
              "        text-align: right;\n",
              "    }\n",
              "</style>\n",
              "<table border=\"1\" class=\"dataframe\">\n",
              "  <thead>\n",
              "    <tr style=\"text-align: right;\">\n",
              "      <th></th>\n",
              "      <th>cars</th>\n",
              "      <th>passings</th>\n",
              "    </tr>\n",
              "  </thead>\n",
              "  <tbody>\n",
              "    <tr>\n",
              "      <th>0</th>\n",
              "      <td>BMW</td>\n",
              "      <td>3</td>\n",
              "    </tr>\n",
              "    <tr>\n",
              "      <th>1</th>\n",
              "      <td>Volvo</td>\n",
              "      <td>7</td>\n",
              "    </tr>\n",
              "    <tr>\n",
              "      <th>2</th>\n",
              "      <td>Ford</td>\n",
              "      <td>2</td>\n",
              "    </tr>\n",
              "    <tr>\n",
              "      <th>3</th>\n",
              "      <td>Ferrari</td>\n",
              "      <td>8</td>\n",
              "    </tr>\n",
              "    <tr>\n",
              "      <th>4</th>\n",
              "      <td>Opel</td>\n",
              "      <td>3</td>\n",
              "    </tr>\n",
              "  </tbody>\n",
              "</table>\n",
              "</div>\n",
              "      <button class=\"colab-df-convert\" onclick=\"convertToInteractive('df-bd0a1397-4d0d-44e6-8f15-be1352464b40')\"\n",
              "              title=\"Convert this dataframe to an interactive table.\"\n",
              "              style=\"display:none;\">\n",
              "        \n",
              "  <svg xmlns=\"http://www.w3.org/2000/svg\" height=\"24px\"viewBox=\"0 0 24 24\"\n",
              "       width=\"24px\">\n",
              "    <path d=\"M0 0h24v24H0V0z\" fill=\"none\"/>\n",
              "    <path d=\"M18.56 5.44l.94 2.06.94-2.06 2.06-.94-2.06-.94-.94-2.06-.94 2.06-2.06.94zm-11 1L8.5 8.5l.94-2.06 2.06-.94-2.06-.94L8.5 2.5l-.94 2.06-2.06.94zm10 10l.94 2.06.94-2.06 2.06-.94-2.06-.94-.94-2.06-.94 2.06-2.06.94z\"/><path d=\"M17.41 7.96l-1.37-1.37c-.4-.4-.92-.59-1.43-.59-.52 0-1.04.2-1.43.59L10.3 9.45l-7.72 7.72c-.78.78-.78 2.05 0 2.83L4 21.41c.39.39.9.59 1.41.59.51 0 1.02-.2 1.41-.59l7.78-7.78 2.81-2.81c.8-.78.8-2.07 0-2.86zM5.41 20L4 18.59l7.72-7.72 1.47 1.35L5.41 20z\"/>\n",
              "  </svg>\n",
              "      </button>\n",
              "      \n",
              "  <style>\n",
              "    .colab-df-container {\n",
              "      display:flex;\n",
              "      flex-wrap:wrap;\n",
              "      gap: 12px;\n",
              "    }\n",
              "\n",
              "    .colab-df-convert {\n",
              "      background-color: #E8F0FE;\n",
              "      border: none;\n",
              "      border-radius: 50%;\n",
              "      cursor: pointer;\n",
              "      display: none;\n",
              "      fill: #1967D2;\n",
              "      height: 32px;\n",
              "      padding: 0 0 0 0;\n",
              "      width: 32px;\n",
              "    }\n",
              "\n",
              "    .colab-df-convert:hover {\n",
              "      background-color: #E2EBFA;\n",
              "      box-shadow: 0px 1px 2px rgba(60, 64, 67, 0.3), 0px 1px 3px 1px rgba(60, 64, 67, 0.15);\n",
              "      fill: #174EA6;\n",
              "    }\n",
              "\n",
              "    [theme=dark] .colab-df-convert {\n",
              "      background-color: #3B4455;\n",
              "      fill: #D2E3FC;\n",
              "    }\n",
              "\n",
              "    [theme=dark] .colab-df-convert:hover {\n",
              "      background-color: #434B5C;\n",
              "      box-shadow: 0px 1px 3px 1px rgba(0, 0, 0, 0.15);\n",
              "      filter: drop-shadow(0px 1px 2px rgba(0, 0, 0, 0.3));\n",
              "      fill: #FFFFFF;\n",
              "    }\n",
              "  </style>\n",
              "\n",
              "      <script>\n",
              "        const buttonEl =\n",
              "          document.querySelector('#df-bd0a1397-4d0d-44e6-8f15-be1352464b40 button.colab-df-convert');\n",
              "        buttonEl.style.display =\n",
              "          google.colab.kernel.accessAllowed ? 'block' : 'none';\n",
              "\n",
              "        async function convertToInteractive(key) {\n",
              "          const element = document.querySelector('#df-bd0a1397-4d0d-44e6-8f15-be1352464b40');\n",
              "          const dataTable =\n",
              "            await google.colab.kernel.invokeFunction('convertToInteractive',\n",
              "                                                     [key], {});\n",
              "          if (!dataTable) return;\n",
              "\n",
              "          const docLinkHtml = 'Like what you see? Visit the ' +\n",
              "            '<a target=\"_blank\" href=https://colab.research.google.com/notebooks/data_table.ipynb>data table notebook</a>'\n",
              "            + ' to learn more about interactive tables.';\n",
              "          element.innerHTML = '';\n",
              "          dataTable['output_type'] = 'display_data';\n",
              "          await google.colab.output.renderOutput(dataTable, element);\n",
              "          const docLink = document.createElement('div');\n",
              "          docLink.innerHTML = docLinkHtml;\n",
              "          element.appendChild(docLink);\n",
              "        }\n",
              "      </script>\n",
              "    </div>\n",
              "  </div>\n",
              "  "
            ]
          },
          "metadata": {},
          "execution_count": 16
        }
      ]
    },
    {
      "cell_type": "markdown",
      "source": [
        "Tail:method returns the headers and a specified number of rows, starting from the bottom."
      ],
      "metadata": {
        "id": "plkI1Y6fGuzS"
      }
    },
    {
      "cell_type": "code",
      "source": [
        "myvar.tail()"
      ],
      "metadata": {
        "colab": {
          "base_uri": "https://localhost:8080/",
          "height": 206
        },
        "id": "7G-lC2h6F36U",
        "outputId": "7057d6ee-2ddc-4f17-bf31-3afbc18073b1"
      },
      "execution_count": 17,
      "outputs": [
        {
          "output_type": "execute_result",
          "data": {
            "text/plain": [
              "      cars  passings\n",
              "1    Volvo         7\n",
              "2     Ford         2\n",
              "3  Ferrari         8\n",
              "4     Opel         3\n",
              "5                  1"
            ],
            "text/html": [
              "\n",
              "  <div id=\"df-b8dabe04-c6cf-4ce2-ab7f-3a8d22abbc40\">\n",
              "    <div class=\"colab-df-container\">\n",
              "      <div>\n",
              "<style scoped>\n",
              "    .dataframe tbody tr th:only-of-type {\n",
              "        vertical-align: middle;\n",
              "    }\n",
              "\n",
              "    .dataframe tbody tr th {\n",
              "        vertical-align: top;\n",
              "    }\n",
              "\n",
              "    .dataframe thead th {\n",
              "        text-align: right;\n",
              "    }\n",
              "</style>\n",
              "<table border=\"1\" class=\"dataframe\">\n",
              "  <thead>\n",
              "    <tr style=\"text-align: right;\">\n",
              "      <th></th>\n",
              "      <th>cars</th>\n",
              "      <th>passings</th>\n",
              "    </tr>\n",
              "  </thead>\n",
              "  <tbody>\n",
              "    <tr>\n",
              "      <th>1</th>\n",
              "      <td>Volvo</td>\n",
              "      <td>7</td>\n",
              "    </tr>\n",
              "    <tr>\n",
              "      <th>2</th>\n",
              "      <td>Ford</td>\n",
              "      <td>2</td>\n",
              "    </tr>\n",
              "    <tr>\n",
              "      <th>3</th>\n",
              "      <td>Ferrari</td>\n",
              "      <td>8</td>\n",
              "    </tr>\n",
              "    <tr>\n",
              "      <th>4</th>\n",
              "      <td>Opel</td>\n",
              "      <td>3</td>\n",
              "    </tr>\n",
              "    <tr>\n",
              "      <th>5</th>\n",
              "      <td></td>\n",
              "      <td>1</td>\n",
              "    </tr>\n",
              "  </tbody>\n",
              "</table>\n",
              "</div>\n",
              "      <button class=\"colab-df-convert\" onclick=\"convertToInteractive('df-b8dabe04-c6cf-4ce2-ab7f-3a8d22abbc40')\"\n",
              "              title=\"Convert this dataframe to an interactive table.\"\n",
              "              style=\"display:none;\">\n",
              "        \n",
              "  <svg xmlns=\"http://www.w3.org/2000/svg\" height=\"24px\"viewBox=\"0 0 24 24\"\n",
              "       width=\"24px\">\n",
              "    <path d=\"M0 0h24v24H0V0z\" fill=\"none\"/>\n",
              "    <path d=\"M18.56 5.44l.94 2.06.94-2.06 2.06-.94-2.06-.94-.94-2.06-.94 2.06-2.06.94zm-11 1L8.5 8.5l.94-2.06 2.06-.94-2.06-.94L8.5 2.5l-.94 2.06-2.06.94zm10 10l.94 2.06.94-2.06 2.06-.94-2.06-.94-.94-2.06-.94 2.06-2.06.94z\"/><path d=\"M17.41 7.96l-1.37-1.37c-.4-.4-.92-.59-1.43-.59-.52 0-1.04.2-1.43.59L10.3 9.45l-7.72 7.72c-.78.78-.78 2.05 0 2.83L4 21.41c.39.39.9.59 1.41.59.51 0 1.02-.2 1.41-.59l7.78-7.78 2.81-2.81c.8-.78.8-2.07 0-2.86zM5.41 20L4 18.59l7.72-7.72 1.47 1.35L5.41 20z\"/>\n",
              "  </svg>\n",
              "      </button>\n",
              "      \n",
              "  <style>\n",
              "    .colab-df-container {\n",
              "      display:flex;\n",
              "      flex-wrap:wrap;\n",
              "      gap: 12px;\n",
              "    }\n",
              "\n",
              "    .colab-df-convert {\n",
              "      background-color: #E8F0FE;\n",
              "      border: none;\n",
              "      border-radius: 50%;\n",
              "      cursor: pointer;\n",
              "      display: none;\n",
              "      fill: #1967D2;\n",
              "      height: 32px;\n",
              "      padding: 0 0 0 0;\n",
              "      width: 32px;\n",
              "    }\n",
              "\n",
              "    .colab-df-convert:hover {\n",
              "      background-color: #E2EBFA;\n",
              "      box-shadow: 0px 1px 2px rgba(60, 64, 67, 0.3), 0px 1px 3px 1px rgba(60, 64, 67, 0.15);\n",
              "      fill: #174EA6;\n",
              "    }\n",
              "\n",
              "    [theme=dark] .colab-df-convert {\n",
              "      background-color: #3B4455;\n",
              "      fill: #D2E3FC;\n",
              "    }\n",
              "\n",
              "    [theme=dark] .colab-df-convert:hover {\n",
              "      background-color: #434B5C;\n",
              "      box-shadow: 0px 1px 3px 1px rgba(0, 0, 0, 0.15);\n",
              "      filter: drop-shadow(0px 1px 2px rgba(0, 0, 0, 0.3));\n",
              "      fill: #FFFFFF;\n",
              "    }\n",
              "  </style>\n",
              "\n",
              "      <script>\n",
              "        const buttonEl =\n",
              "          document.querySelector('#df-b8dabe04-c6cf-4ce2-ab7f-3a8d22abbc40 button.colab-df-convert');\n",
              "        buttonEl.style.display =\n",
              "          google.colab.kernel.accessAllowed ? 'block' : 'none';\n",
              "\n",
              "        async function convertToInteractive(key) {\n",
              "          const element = document.querySelector('#df-b8dabe04-c6cf-4ce2-ab7f-3a8d22abbc40');\n",
              "          const dataTable =\n",
              "            await google.colab.kernel.invokeFunction('convertToInteractive',\n",
              "                                                     [key], {});\n",
              "          if (!dataTable) return;\n",
              "\n",
              "          const docLinkHtml = 'Like what you see? Visit the ' +\n",
              "            '<a target=\"_blank\" href=https://colab.research.google.com/notebooks/data_table.ipynb>data table notebook</a>'\n",
              "            + ' to learn more about interactive tables.';\n",
              "          element.innerHTML = '';\n",
              "          dataTable['output_type'] = 'display_data';\n",
              "          await google.colab.output.renderOutput(dataTable, element);\n",
              "          const docLink = document.createElement('div');\n",
              "          docLink.innerHTML = docLinkHtml;\n",
              "          element.appendChild(docLink);\n",
              "        }\n",
              "      </script>\n",
              "    </div>\n",
              "  </div>\n",
              "  "
            ]
          },
          "metadata": {},
          "execution_count": 17
        }
      ]
    },
    {
      "cell_type": "markdown",
      "source": [
        "Info : about of data"
      ],
      "metadata": {
        "id": "VWC3jeVUG9cV"
      }
    },
    {
      "cell_type": "code",
      "source": [
        "myvar.info()"
      ],
      "metadata": {
        "colab": {
          "base_uri": "https://localhost:8080/"
        },
        "id": "ZXkxuACHG5VK",
        "outputId": "a2a8556c-4959-4699-f4c2-52170c0bcb03"
      },
      "execution_count": 24,
      "outputs": [
        {
          "output_type": "stream",
          "name": "stdout",
          "text": [
            "<class 'pandas.core.frame.DataFrame'>\n",
            "RangeIndex: 6 entries, 0 to 5\n",
            "Data columns (total 2 columns):\n",
            " #   Column    Non-Null Count  Dtype \n",
            "---  ------    --------------  ----- \n",
            " 0   cars      6 non-null      object\n",
            " 1   passings  6 non-null      int64 \n",
            "dtypes: int64(1), object(1)\n",
            "memory usage: 224.0+ bytes\n"
          ]
        }
      ]
    },
    {
      "cell_type": "markdown",
      "source": [
        "Data cleaning means fixing bad data in your data set.\n",
        "\n",
        "Bad data could be:\n",
        "\n",
        "Empty cells\n",
        "\n",
        "\n",
        "Data in wrong format\n",
        "\n",
        "\n",
        "Wrong data\n",
        "\n",
        "\n",
        "Duplicates\n"
      ],
      "metadata": {
        "id": "BP2UG8xfHSUr"
      }
    },
    {
      "cell_type": "markdown",
      "source": [
        "dropna() method returns a new DataFrame, and will not change the original."
      ],
      "metadata": {
        "id": "rVhAQSirHvzQ"
      }
    },
    {
      "cell_type": "markdown",
      "source": [
        " the dropna(inplace = True) will NOT return a new DataFrame, but it will remove all rows containing NULL values from the original DataFrame."
      ],
      "metadata": {
        "id": "9V42A7XlHsiV"
      }
    },
    {
      "cell_type": "markdown",
      "source": [
        "Replace empty values\n",
        " fillna() method allows us to replace empty cells with a value"
      ],
      "metadata": {
        "id": "FmkSuwq3H1n-"
      }
    },
    {
      "cell_type": "markdown",
      "source": [
        "Replace Using Mean, Median, or Mode\n",
        "A common way to replace empty cells, is to calculate the mean, median or mode value of the column.\n",
        "\n",
        "Pandas uses the mean() median() and mode() methods to calculate the respective values for a specified column:"
      ],
      "metadata": {
        "id": "DQdOslbMIfW0"
      }
    },
    {
      "cell_type": "code",
      "source": [
        "# x = df[\"columns name\"].mean()\n",
        "\n",
        "#df[\"columns name\"].fillna(x, inplace = True)"
      ],
      "metadata": {
        "id": "714h1bEDHtlY"
      },
      "execution_count": null,
      "outputs": []
    },
    {
      "cell_type": "markdown",
      "source": [
        "Data of Wrong Format\n",
        "Cells with data of wrong format can make it difficult, or even impossible, to analyze data.\n",
        "\n",
        "To fix it, you have two options: remove the rows, or convert all cells in the columns into the same format"
      ],
      "metadata": {
        "id": "0iZN9sLuI4wW"
      }
    },
    {
      "cell_type": "markdown",
      "source": [
        "if it was Data Frame wrong format in Date..\n",
        "\n",
        "\n",
        "\n",
        " the 'Date' column should be a string that represents a date: ****"
      ],
      "metadata": {
        "id": "vSm_VicJJM2Z"
      }
    },
    {
      "cell_type": "code",
      "source": [
        "#Pandas has a to_datetime() method for this:\n",
        "#df['Columns Date'] = pd.to_datetime(df['Columns Date'])\n",
        "\n",
        "#print(df.to_string())"
      ],
      "metadata": {
        "id": "R3K5gpVOJLIC"
      },
      "execution_count": null,
      "outputs": []
    },
    {
      "cell_type": "markdown",
      "source": [
        "Remove Rows"
      ],
      "metadata": {
        "id": "p0tPwnKsKB8u"
      }
    },
    {
      "cell_type": "markdown",
      "source": [
        "The result from the converting in the example above gave us a NaT value, which can be handled as a NULL value, and we can remove the row by using the dropna() method."
      ],
      "metadata": {
        "id": "cG0drvl7KBFp"
      }
    },
    {
      "cell_type": "code",
      "source": [
        "#df.dropna(subset=['Column Name '], inplace = True)\n"
      ],
      "metadata": {
        "id": "mSnU-4KtHth8"
      },
      "execution_count": null,
      "outputs": []
    },
    {
      "cell_type": "markdown",
      "source": [
        "Wrong data\" does not have to be \"empty cells\" or \"wrong format\", it can just be wrong, like if someone registered \"199\" instead of \"1.99\".\n",
        "\n",
        "Sometimes you can spot wrong data by looking at the data set, because you have an expectation of what it should be.\n"
      ],
      "metadata": {
        "id": "UCXusf89KblI"
      }
    },
    {
      "cell_type": "markdown",
      "source": [
        "One way to fix wrong values is to replace them with something else.\n",
        "\n"
      ],
      "metadata": {
        "id": "uc8wb8EqKslQ"
      }
    },
    {
      "cell_type": "code",
      "source": [
        "# df.loc[num of row, 'coulmns name'] = new value"
      ],
      "metadata": {
        "id": "NeMZBdj3Kr-g"
      },
      "execution_count": null,
      "outputs": []
    },
    {
      "cell_type": "markdown",
      "source": [
        "For small data sets you might be able to replace the wrong data one by one, but not for big data sets.\n",
        "\n",
        "To replace wrong data for larger data sets you can create some rules, e.g. set some boundaries for legal values, and replace any values that are outside of the boundaries"
      ],
      "metadata": {
        "id": "Tf_PPx3WLJyz"
      }
    },
    {
      "cell_type": "markdown",
      "source": [
        "Example"
      ],
      "metadata": {
        "id": "IMH2haB4LPof"
      }
    },
    {
      "cell_type": "code",
      "source": [
        "#for x in df.index:\n",
        "  #if df.loc[x, \"coulmns name\"] > 120:\n",
        "    #df.loc[x, \"coulmns name\"] = 120"
      ],
      "metadata": {
        "id": "lBZj2jsALSNr"
      },
      "execution_count": null,
      "outputs": []
    },
    {
      "cell_type": "markdown",
      "source": [
        "Another way of handling wrong data is to remove the rows that contains wrong data.\n",
        "\n",
        "This way you do not have to find out what to replace them with, and there is a good chance you do not need them to do your analyses.\n",
        "\n",
        "Example"
      ],
      "metadata": {
        "id": "bYGxgmQnLPr8"
      }
    },
    {
      "cell_type": "code",
      "source": [
        "#for x in df.index:\n",
        "  #if df.loc[x, \"coulmns name\"] > 120:\n",
        "    #df.drop(x, inplace = True)"
      ],
      "metadata": {
        "id": "7rpixEznLJIr"
      },
      "execution_count": null,
      "outputs": []
    },
    {
      "cell_type": "markdown",
      "source": [
        "Dublicate"
      ],
      "metadata": {
        "id": "6Sq1cz2AL2zk"
      }
    },
    {
      "cell_type": "code",
      "source": [
        "print(myvar.duplicated())\n"
      ],
      "metadata": {
        "colab": {
          "base_uri": "https://localhost:8080/"
        },
        "id": "ZjT-n9IsL3Uj",
        "outputId": "0f1d20c2-9621-44c3-f98e-474f5777ca36"
      },
      "execution_count": 25,
      "outputs": [
        {
          "output_type": "stream",
          "name": "stdout",
          "text": [
            "0    False\n",
            "1    False\n",
            "2    False\n",
            "3    False\n",
            "4    False\n",
            "5    False\n",
            "dtype: bool\n"
          ]
        }
      ]
    },
    {
      "cell_type": "markdown",
      "source": [
        "Removeing"
      ],
      "metadata": {
        "id": "HzE8fKtdMEh8"
      }
    },
    {
      "cell_type": "code",
      "source": [
        "myvar.drop_duplicates(inplace = True)"
      ],
      "metadata": {
        "id": "3OUM56IwMBAG"
      },
      "execution_count": 26,
      "outputs": []
    },
    {
      "cell_type": "markdown",
      "source": [
        "Finding Relationships\n",
        "A great aspect of the Pandas module is the corr() method.\n",
        "\n",
        "The corr() method calculates the relationship between each column in your data set"
      ],
      "metadata": {
        "id": "C7dyJHiwMMqZ"
      }
    },
    {
      "cell_type": "code",
      "source": [
        "#myvar.corr()"
      ],
      "metadata": {
        "id": "7uSpuhaHMLUz"
      },
      "execution_count": 29,
      "outputs": []
    },
    {
      "cell_type": "markdown",
      "source": [
        "Note: The corr() method ignores \"not numeric\" columns."
      ],
      "metadata": {
        "id": "hea13BGjMZ-_"
      }
    },
    {
      "cell_type": "markdown",
      "source": [
        "NumPy is a Python library.\n",
        "\n",
        "NumPy is used for working with arrays.\n",
        "\n",
        "NumPy is short for \"Numerical Python\".\n",
        "It also has functions for working in domain of linear algebra, fourier transform, and matrices."
      ],
      "metadata": {
        "id": "OkOLQfAbOCIG"
      }
    },
    {
      "cell_type": "code",
      "source": [
        "import numpy as np\n",
        "\n",
        "arr = np.array([1, 2, 3, 4, 5, 6, 7, 8, 9, 10, 11, 12])\n",
        "\n"
      ],
      "metadata": {
        "id": "f7ekdMVkOGEn"
      },
      "execution_count": 35,
      "outputs": []
    },
    {
      "cell_type": "markdown",
      "source": [
        "Reshaping arrays\n",
        "Reshaping means changing the shape of an array.\n",
        "\n",
        "The shape of an array is the number of elements in each dimension.\n",
        "\n",
        "By reshaping we can add or remove dimensions or change number of elements in each dimension."
      ],
      "metadata": {
        "id": "IJ_sLnDrP8GE"
      }
    },
    {
      "cell_type": "code",
      "source": [
        "newarr = arr.reshape(2, 3, 2)\n",
        "\n",
        "print(newarr)"
      ],
      "metadata": {
        "colab": {
          "base_uri": "https://localhost:8080/"
        },
        "id": "Chgb3RMLOYo3",
        "outputId": "61d4ee83-9e1d-43ce-dbb2-7d0704b8cb32"
      },
      "execution_count": 39,
      "outputs": [
        {
          "output_type": "stream",
          "name": "stdout",
          "text": [
            "[[[ 1  2]\n",
            "  [ 3  4]\n",
            "  [ 5  6]]\n",
            "\n",
            " [[ 7  8]\n",
            "  [ 9 10]\n",
            "  [11 12]]]\n"
          ]
        }
      ]
    },
    {
      "cell_type": "markdown",
      "source": [
        "API stands for application programming interface. In essence, an API acts as a communication layer, or as the name says, an interface, that allows different systems to talk to each other without having to understand exactly what each other does. APIs can come in many forms or shapes."
      ],
      "metadata": {
        "id": "HyEEOtLpUJ76"
      }
    }
  ]
}