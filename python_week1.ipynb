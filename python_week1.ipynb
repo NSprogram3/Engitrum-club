{
  "nbformat": 4,
  "nbformat_minor": 0,
  "metadata": {
    "colab": {
      "provenance": [],
      "authorship_tag": "ABX9TyOQHh7NHiqGQvf+Aoa6t0gN",
      "include_colab_link": true
    },
    "kernelspec": {
      "name": "python3",
      "display_name": "Python 3"
    },
    "language_info": {
      "name": "python"
    }
  },
  "cells": [
    {
      "cell_type": "markdown",
      "metadata": {
        "id": "view-in-github",
        "colab_type": "text"
      },
      "source": [
        "<a href=\"https://colab.research.google.com/github/NSprogram3/Engitrum-club/blob/main/python_week1.ipynb\" target=\"_parent\"><img src=\"https://colab.research.google.com/assets/colab-badge.svg\" alt=\"Open In Colab\"/></a>"
      ]
    },
    {
      "cell_type": "code",
      "source": [],
      "metadata": {
        "id": "SblbmpmPyUT_"
      },
      "execution_count": 40,
      "outputs": []
    },
    {
      "cell_type": "markdown",
      "source": [
        "Week1, PYTHON .. PROJECT \"Binary search\"\n",
        "The goal of binary search is to search whether a given number is present in the string or not."
      ],
      "metadata": {
        "id": "4tJg3q7ZNZ5C"
      }
    },
    {
      "cell_type": "markdown",
      "source": [
        "Data Type"
      ],
      "metadata": {
        "id": "zoyQ4jZKNnyp"
      }
    },
    {
      "cell_type": "code",
      "source": [
        "x = 5\n",
        "print(type(x))"
      ],
      "metadata": {
        "colab": {
          "base_uri": "https://localhost:8080/"
        },
        "id": "VkNbYfdoNzCd",
        "outputId": "243869d8-6607-4a6c-f0bd-24bff3b58f84"
      },
      "execution_count": 41,
      "outputs": [
        {
          "output_type": "stream",
          "name": "stdout",
          "text": [
            "<class 'int'>\n"
          ]
        }
      ]
    },
    {
      "cell_type": "code",
      "source": [
        "y= 6.8\n",
        "print(type(y))"
      ],
      "metadata": {
        "colab": {
          "base_uri": "https://localhost:8080/"
        },
        "id": "s5uAVyi5yvlj",
        "outputId": "27d130b3-4de8-4a7b-f741-2c0ce437d8e3"
      },
      "execution_count": 5,
      "outputs": [
        {
          "output_type": "stream",
          "name": "stdout",
          "text": [
            "<class 'float'>\n"
          ]
        }
      ]
    },
    {
      "cell_type": "code",
      "source": [
        "z = b\"Hello\"\n",
        "print(type(z))"
      ],
      "metadata": {
        "colab": {
          "base_uri": "https://localhost:8080/"
        },
        "id": "TSXDpnL9y2ie",
        "outputId": "a347c69e-07a4-431d-c414-48765afa6aa5"
      },
      "execution_count": 6,
      "outputs": [
        {
          "output_type": "stream",
          "name": "stdout",
          "text": [
            "<class 'bytes'>\n"
          ]
        }
      ]
    },
    {
      "cell_type": "code",
      "source": [
        "c = [\"apple\", 'banana',\"cherry\"]\n",
        "print(type(c))"
      ],
      "metadata": {
        "colab": {
          "base_uri": "https://localhost:8080/"
        },
        "id": "21Q_4Aq4zEDj",
        "outputId": "56acb924-8824-46ba-b8f0-bc7fd65f8c33"
      },
      "execution_count": 7,
      "outputs": [
        {
          "output_type": "stream",
          "name": "stdout",
          "text": [
            "<class 'list'>\n"
          ]
        }
      ]
    },
    {
      "cell_type": "code",
      "source": [
        "c = (\"apple\", 'banana',\"cherry\")\n",
        "print(type(c))"
      ],
      "metadata": {
        "colab": {
          "base_uri": "https://localhost:8080/"
        },
        "id": "wV777LsTzTp8",
        "outputId": "48658dd1-df49-4299-af0c-5f0c6a356d23"
      },
      "execution_count": 8,
      "outputs": [
        {
          "output_type": "stream",
          "name": "stdout",
          "text": [
            "<class 'tuple'>\n"
          ]
        }
      ]
    },
    {
      "cell_type": "code",
      "source": [
        "c = {\"apple\", 'banana',\"cherry\"}\n",
        "print(type(c))"
      ],
      "metadata": {
        "colab": {
          "base_uri": "https://localhost:8080/"
        },
        "id": "m22L8_QnzX8K",
        "outputId": "27f5fc8b-b8de-4559-9e3a-cb59d5993dcb"
      },
      "execution_count": 9,
      "outputs": [
        {
          "output_type": "stream",
          "name": "stdout",
          "text": [
            "<class 'set'>\n"
          ]
        }
      ]
    },
    {
      "cell_type": "code",
      "source": [
        "c = {\"apple\":'banana',\"cherry\":38}  \n",
        "print(type(c))"
      ],
      "metadata": {
        "colab": {
          "base_uri": "https://localhost:8080/"
        },
        "id": "qNV6P42mzjj7",
        "outputId": "c3f54bc7-cfc0-4586-c27d-7df243154537"
      },
      "execution_count": 10,
      "outputs": [
        {
          "output_type": "stream",
          "name": "stdout",
          "text": [
            "<class 'dict'>\n"
          ]
        }
      ]
    },
    {
      "cell_type": "code",
      "source": [
        "c =set((\"apple\", 'banana',\"cherry\"))\n",
        "print(type(c))"
      ],
      "metadata": {
        "colab": {
          "base_uri": "https://localhost:8080/"
        },
        "id": "SlZh2TkC0DuS",
        "outputId": "8ff7b887-d5f5-497a-f2c1-6872abcfb877"
      },
      "execution_count": 11,
      "outputs": [
        {
          "output_type": "stream",
          "name": "stdout",
          "text": [
            "<class 'set'>\n"
          ]
        }
      ]
    },
    {
      "cell_type": "markdown",
      "source": [
        "Variables"
      ],
      "metadata": {
        "id": "759x9cyz0vkC"
      }
    },
    {
      "cell_type": "code",
      "source": [
        "x = 8\n",
        "y = \"Noura\"\n",
        "print (x)\n",
        "print(y)"
      ],
      "metadata": {
        "colab": {
          "base_uri": "https://localhost:8080/"
        },
        "id": "u4qfXNau0xmc",
        "outputId": "cf1422a3-4587-4ff6-e5dd-8fbe97fa2869"
      },
      "execution_count": 12,
      "outputs": [
        {
          "output_type": "stream",
          "name": "stdout",
          "text": [
            "8\n",
            "Noura\n"
          ]
        }
      ]
    },
    {
      "cell_type": "code",
      "source": [
        "x= 4\n",
        "x=\"Sally\"\n",
        "print(x)"
      ],
      "metadata": {
        "colab": {
          "base_uri": "https://localhost:8080/"
        },
        "id": "WF3dkeF3059g",
        "outputId": "115e10b7-ff94-4cf5-c99f-192c9b2b331c"
      },
      "execution_count": 13,
      "outputs": [
        {
          "output_type": "stream",
          "name": "stdout",
          "text": [
            "Sally\n"
          ]
        }
      ]
    },
    {
      "cell_type": "code",
      "source": [
        "\n",
        "x=\"Sally\"\n",
        "x=5\n",
        "print(x)"
      ],
      "metadata": {
        "colab": {
          "base_uri": "https://localhost:8080/"
        },
        "id": "_JoYJfTK1HeR",
        "outputId": "7dfbd8b7-35a6-4563-9e45-3186ea1da86a"
      },
      "execution_count": 14,
      "outputs": [
        {
          "output_type": "stream",
          "name": "stdout",
          "text": [
            "5\n"
          ]
        }
      ]
    },
    {
      "cell_type": "code",
      "source": [
        "#casting\n",
        "x=str(4)\n",
        "y=int(5)\n",
        "z= float(7)\n",
        "print(z)"
      ],
      "metadata": {
        "colab": {
          "base_uri": "https://localhost:8080/"
        },
        "id": "0UHhIG1g1OVL",
        "outputId": "23d34f0e-ae41-4324-ffb6-3a754927f7d6"
      },
      "execution_count": 15,
      "outputs": [
        {
          "output_type": "stream",
          "name": "stdout",
          "text": [
            "7.0\n"
          ]
        }
      ]
    },
    {
      "cell_type": "code",
      "source": [
        "#single or double quotes\n",
        "x=\"Noura\"\n",
        "# is the same\n",
        "x='Noura'"
      ],
      "metadata": {
        "id": "fFL9wClB1lyI"
      },
      "execution_count": 16,
      "outputs": []
    },
    {
      "cell_type": "code",
      "source": [
        "A= 5\n",
        "a =8\n",
        "print(A)"
      ],
      "metadata": {
        "colab": {
          "base_uri": "https://localhost:8080/"
        },
        "id": "yiu_mPiP145h",
        "outputId": "6c855373-8e9d-413e-e8bc-e8a67ef662ad"
      },
      "execution_count": 17,
      "outputs": [
        {
          "output_type": "stream",
          "name": "stdout",
          "text": [
            "5\n"
          ]
        }
      ]
    },
    {
      "cell_type": "markdown",
      "source": [
        "Expressions"
      ],
      "metadata": {
        "id": "HOfZJ2rL2W5u"
      }
    },
    {
      "cell_type": "code",
      "source": [
        "x = 14+ 1.6\n",
        "print(x)"
      ],
      "metadata": {
        "colab": {
          "base_uri": "https://localhost:8080/"
        },
        "id": "v5BW1ux_2Zry",
        "outputId": "78e42532-a335-4110-cacb-26b0d7a75cd7"
      },
      "execution_count": 18,
      "outputs": [
        {
          "output_type": "stream",
          "name": "stdout",
          "text": [
            "15.6\n"
          ]
        }
      ]
    },
    {
      "cell_type": "code",
      "source": [
        "x= 10\n",
        "y=50\n",
        "add = x+y\n",
        "sub= x-y\n",
        "pro = x*y\n",
        "div = x/y\n",
        "\n",
        "print(add)\n",
        "print(sub)\n",
        "print(pro)\n",
        "print(div)"
      ],
      "metadata": {
        "colab": {
          "base_uri": "https://localhost:8080/"
        },
        "id": "zFB5h-Aq2kQC",
        "outputId": "9e098792-a3df-4f25-e5b2-4a0be5790d88"
      },
      "execution_count": 19,
      "outputs": [
        {
          "output_type": "stream",
          "name": "stdout",
          "text": [
            "60\n",
            "-40\n",
            "500\n",
            "0.2\n"
          ]
        }
      ]
    },
    {
      "cell_type": "code",
      "source": [
        "#integral expressions\n",
        "a = 12\n",
        "b=13.4\n",
        "c =a+int(b)\n",
        "print(c)"
      ],
      "metadata": {
        "colab": {
          "base_uri": "https://localhost:8080/"
        },
        "id": "1P-BkbiD3CYz",
        "outputId": "358bf932-2b14-4663-aecc-42d9cda67dff"
      },
      "execution_count": 20,
      "outputs": [
        {
          "output_type": "stream",
          "name": "stdout",
          "text": [
            "25\n"
          ]
        }
      ]
    },
    {
      "cell_type": "code",
      "source": [
        "a =29\n",
        "b=30\n",
        "c=7\n",
        "d=18\n",
        "p = (a+b) >= (c-d)\n",
        "print(p)"
      ],
      "metadata": {
        "colab": {
          "base_uri": "https://localhost:8080/"
        },
        "id": "UCwGDJAc3OFu",
        "outputId": "48a55858-9c43-4416-db7f-825cde73d360"
      },
      "execution_count": 21,
      "outputs": [
        {
          "output_type": "stream",
          "name": "stdout",
          "text": [
            "True\n"
          ]
        }
      ]
    },
    {
      "cell_type": "code",
      "source": [
        "p=(10==9)\n",
        "w=(7>5)\n",
        "R= p and w # It returns true if both p and w are true  otherwise return false\n",
        "s= p or w # it returns true if at least one of p and w is true\n",
        "t= not p # It returns true if condition p is false\n",
        "print(R)\n",
        "print(s)\n",
        "print(p)"
      ],
      "metadata": {
        "colab": {
          "base_uri": "https://localhost:8080/"
        },
        "id": "tikMAqTE3voH",
        "outputId": "e92aced0-55bb-403a-adce-272902288651"
      },
      "execution_count": 22,
      "outputs": [
        {
          "output_type": "stream",
          "name": "stdout",
          "text": [
            "False\n",
            "True\n",
            "False\n"
          ]
        }
      ]
    },
    {
      "cell_type": "markdown",
      "source": [
        "Operator"
      ],
      "metadata": {
        "id": "JgDyjrly5bU3"
      }
    },
    {
      "cell_type": "code",
      "source": [
        "print((7+4) - (2-2))"
      ],
      "metadata": {
        "colab": {
          "base_uri": "https://localhost:8080/"
        },
        "id": "UI2z41UY5e_R",
        "outputId": "f47d6c22-aaa5-416f-aa23-dcafbef1e3f4"
      },
      "execution_count": 23,
      "outputs": [
        {
          "output_type": "stream",
          "name": "stdout",
          "text": [
            "11\n"
          ]
        }
      ]
    },
    {
      "cell_type": "code",
      "source": [
        "print((100+6*6))"
      ],
      "metadata": {
        "colab": {
          "base_uri": "https://localhost:8080/"
        },
        "id": "FGTfdIFs5uje",
        "outputId": "6fe3b029-1563-42fa-8c97-e1d16bc9e060"
      },
      "execution_count": 24,
      "outputs": [
        {
          "output_type": "stream",
          "name": "stdout",
          "text": [
            "136\n"
          ]
        }
      ]
    },
    {
      "cell_type": "markdown",
      "source": [
        "List in python"
      ],
      "metadata": {
        "id": "MsA46Zm16q-k"
      }
    },
    {
      "cell_type": "code",
      "source": [
        "ThisList= [\"Apple\",\"banana\",\"orange\",78] #list useing square brackets\n",
        "ThisList"
      ],
      "metadata": {
        "colab": {
          "base_uri": "https://localhost:8080/"
        },
        "id": "0-3iw6w86s3M",
        "outputId": "1dc3e449-7bd6-4443-f8cc-c8d04975d990"
      },
      "execution_count": 25,
      "outputs": [
        {
          "output_type": "execute_result",
          "data": {
            "text/plain": [
              "['Apple', 'banana', 'orange', 78]"
            ]
          },
          "metadata": {},
          "execution_count": 25
        }
      ]
    },
    {
      "cell_type": "code",
      "source": [
        "#List Items are ordered , changeble, and allow duplicate values\n",
        "ThisList= [\"Apple\",\"banana\",\"orange\",78,\"Apple\"]\n",
        "ThisList"
      ],
      "metadata": {
        "colab": {
          "base_uri": "https://localhost:8080/"
        },
        "id": "yvVbFrDL7Qwy",
        "outputId": "ab90bd4f-fa4f-41c5-8711-03096170caa7"
      },
      "execution_count": 26,
      "outputs": [
        {
          "output_type": "execute_result",
          "data": {
            "text/plain": [
              "['Apple', 'banana', 'orange', 78, 'Apple']"
            ]
          },
          "metadata": {},
          "execution_count": 26
        }
      ]
    },
    {
      "cell_type": "code",
      "source": [
        "print(len(ThisList)) # List length  "
      ],
      "metadata": {
        "colab": {
          "base_uri": "https://localhost:8080/"
        },
        "id": "M4KhLiwK76GS",
        "outputId": "840b2a9b-9ae8-4fbf-d6d9-3c94e620db68"
      },
      "execution_count": 27,
      "outputs": [
        {
          "output_type": "stream",
          "name": "stdout",
          "text": [
            "5\n"
          ]
        }
      ]
    },
    {
      "cell_type": "code",
      "source": [
        "print(type(ThisList))"
      ],
      "metadata": {
        "colab": {
          "base_uri": "https://localhost:8080/"
        },
        "id": "r59MKEUD8IhC",
        "outputId": "8cf46dc0-2e25-406f-ea1e-8cdb86b99b89"
      },
      "execution_count": 28,
      "outputs": [
        {
          "output_type": "stream",
          "name": "stdout",
          "text": [
            "<class 'list'>\n"
          ]
        }
      ]
    },
    {
      "cell_type": "code",
      "source": [
        "ThisList=list((['Apple', 'banana', 'orange', 78, 'Apple'])) #double round brackets\n",
        "print(ThisList)"
      ],
      "metadata": {
        "colab": {
          "base_uri": "https://localhost:8080/"
        },
        "id": "WDsKZdd58VHv",
        "outputId": "4182bc8a-07b2-463e-878d-16d44f736441"
      },
      "execution_count": 29,
      "outputs": [
        {
          "output_type": "stream",
          "name": "stdout",
          "text": [
            "['Apple', 'banana', 'orange', 78, 'Apple']\n"
          ]
        }
      ]
    },
    {
      "cell_type": "markdown",
      "source": [
        "Tuples "
      ],
      "metadata": {
        "id": "wzL_M2UH9Rmz"
      }
    },
    {
      "cell_type": "code",
      "source": [
        "#A tuple is collection which is orderd and UNCHANGEABLE, Allow Duplicates\n",
        "# Written with round brackets\n",
        "ThisTuple= ('Apple', 'banana', 'orange', 78, 'Apple')\n",
        "ThisTuple"
      ],
      "metadata": {
        "colab": {
          "base_uri": "https://localhost:8080/"
        },
        "id": "L_Kq1HwD9Vbk",
        "outputId": "8d25ad1c-b202-4a69-b118-6209dcfb4adb"
      },
      "execution_count": 30,
      "outputs": [
        {
          "output_type": "execute_result",
          "data": {
            "text/plain": [
              "('Apple', 'banana', 'orange', 78, 'Apple')"
            ]
          },
          "metadata": {},
          "execution_count": 30
        }
      ]
    },
    {
      "cell_type": "code",
      "source": [
        "#creat one item\n",
        "thistuple= (\"orange\",) # comma\n",
        "print(type(thistuple))\n",
        "\n",
        "thistuple2= (\"orange\") # not a tuple \n",
        "print(type(thistuple2))"
      ],
      "metadata": {
        "colab": {
          "base_uri": "https://localhost:8080/"
        },
        "id": "x72kEeYw-J0w",
        "outputId": "b6dba393-39f2-43a0-ee81-f5ba65169a92"
      },
      "execution_count": 31,
      "outputs": [
        {
          "output_type": "stream",
          "name": "stdout",
          "text": [
            "<class 'tuple'>\n",
            "<class 'str'>\n"
          ]
        }
      ]
    },
    {
      "cell_type": "markdown",
      "source": [
        "Dictionary"
      ],
      "metadata": {
        "id": "qIXb3Abb_HY1"
      }
    },
    {
      "cell_type": "code",
      "source": [
        "#used to store data value in key:value pairs\n",
        "# dic is collection which ordered , changeable , not allow duplicates\n",
        "Thisdic = {\n",
        "    \"Name\" : \"Nura\",\n",
        "    \"Age\" : 23,\n",
        "    \"year\": 2023,\n",
        "    \"specialization\": \"DS\"\n",
        "}\n",
        "print(Thisdic)"
      ],
      "metadata": {
        "colab": {
          "base_uri": "https://localhost:8080/"
        },
        "id": "bIidlkTZ_J_p",
        "outputId": "2750b1d8-ecf8-4f22-8a42-56e850af7cd0"
      },
      "execution_count": 32,
      "outputs": [
        {
          "output_type": "stream",
          "name": "stdout",
          "text": [
            "{'Name': 'Nura', 'Age': 23, 'year': 2023, 'specialization': 'DS'}\n"
          ]
        }
      ]
    },
    {
      "cell_type": "code",
      "source": [
        "print(Thisdic[\"Name\"])"
      ],
      "metadata": {
        "colab": {
          "base_uri": "https://localhost:8080/"
        },
        "id": "8lZ2nvP8AeT2",
        "outputId": "e822c8b5-4880-41b0-f534-7b37c8a67946"
      },
      "execution_count": 33,
      "outputs": [
        {
          "output_type": "stream",
          "name": "stdout",
          "text": [
            "Nura\n"
          ]
        }
      ]
    },
    {
      "cell_type": "code",
      "source": [
        "print(Thisdic[\"Age\"])"
      ],
      "metadata": {
        "colab": {
          "base_uri": "https://localhost:8080/"
        },
        "id": "ssOLHSowArLM",
        "outputId": "b2f5245a-7c63-42a7-b629-aaee905b7b26"
      },
      "execution_count": 34,
      "outputs": [
        {
          "output_type": "stream",
          "name": "stdout",
          "text": [
            "23\n"
          ]
        }
      ]
    },
    {
      "cell_type": "code",
      "source": [
        "print(len(Thisdic))"
      ],
      "metadata": {
        "colab": {
          "base_uri": "https://localhost:8080/"
        },
        "id": "At9ansk4Anms",
        "outputId": "f1c50047-0f7c-4c28-8a29-3d8c5f3e8e35"
      },
      "execution_count": 35,
      "outputs": [
        {
          "output_type": "stream",
          "name": "stdout",
          "text": [
            "4\n"
          ]
        }
      ]
    },
    {
      "cell_type": "code",
      "source": [
        "print(type(Thisdic))"
      ],
      "metadata": {
        "colab": {
          "base_uri": "https://localhost:8080/"
        },
        "id": "vLKpWlmDA-R8",
        "outputId": "327538db-d19a-42fe-90a9-d4451ccbc6a6"
      },
      "execution_count": 36,
      "outputs": [
        {
          "output_type": "stream",
          "name": "stdout",
          "text": [
            "<class 'dict'>\n"
          ]
        }
      ]
    },
    {
      "cell_type": "markdown",
      "source": [
        "project:"
      ],
      "metadata": {
        "id": "gZcJHx86N5ze"
      }
    },
    {
      "cell_type": "code",
      "source": [
        "lst = [10,20,30,40,60,50,70]\n",
        "lst.sort()\n",
        "first=0\n",
        "last=len(lst)-1 #index =0\n",
        "mid = (first+last)//2\n",
        "item = int(input(\"enter the number to be search\")) #user\n",
        "found = False\n",
        "while( first<=last and not found):\n",
        "    mid = (first + last)//2\n",
        "    if lst[mid] == item :\n",
        "         print(f\"found at location {mid}\")\n",
        "         found= True\n",
        "    else:\n",
        "        if item < lst[mid]:\n",
        "            last = mid - 1\n",
        "        else:\n",
        "            first = mid + 1 \n",
        "   \n",
        "if found == False:\n",
        "    print(\"Number not found\")"
      ],
      "metadata": {
        "colab": {
          "base_uri": "https://localhost:8080/"
        },
        "id": "oeq6gkSPKkqw",
        "outputId": "fdfc9982-53dc-4e8b-843b-45ce7e8f1e02"
      },
      "execution_count": 49,
      "outputs": [
        {
          "output_type": "stream",
          "name": "stdout",
          "text": [
            "enter the number to be search80\n",
            "Number not found\n"
          ]
        }
      ]
    }
  ]
}